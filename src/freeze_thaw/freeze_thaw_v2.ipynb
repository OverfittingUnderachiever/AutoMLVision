{
 "cells": [
  {
   "cell_type": "code",
   "execution_count": 25,
   "metadata": {},
   "outputs": [],
   "source": [
    "# Implementing freeze-thaw bayesian optimization with two-level Gaussian processes\n",
    "# A global GP models the asymptotic mean of the learning curves of each HP-config\n",
    "# Local GPs model the learning curves of each HP-config\n",
    "\n",
    "from sklearn.gaussian_process import GaussianProcessRegressor\n",
    "from sklearn.gaussian_process.kernels import Matern, Kernel, Sum, WhiteKernel\n",
    "import numpy as np\n",
    "import matplotlib.pyplot as plt\n",
    "from ft_testfunction import global_xD, local_xD\n",
    "import scipy as sc\n",
    "from freeze_thaw import FreezeThaw, init_configs\n",
    "\n",
    "# Hyper-Hyperparameters of Freeze-Thaw Bayesian Optimization\n",
    "ALPHA,BETA = 1,0.5\n",
    "NOISE = 0.1\n",
    "B_OLD=10 # 10\n",
    "B_NEW=3 # 3\n",
    "N_SAMPLES_MC=1000 # number of samples for Monte Carlo integration\n",
    "N_FANT=5 # 5 # number of observations we fantasize for each point in the basket\n",
    "N_INIT_CONFIGS=10 # number of random initializations for the optimization\n",
    "N_INIT_EPOCHS=5 # number of epochs trained for initial configs\n",
    "INFERRED_MEAN = 0.8 # inferred mean of the global GP\n",
    "MATER_NU = 2.5 # Matern kernel parameter\n",
    "EI_N_SAMPLES = 1000 #10000 # number of samples for EI optimization\n",
    "PRED_EPOCH = 1 # how many epochs to predict for\n",
    "\n",
    "# Meta-Parameters of the task\n",
    "OBS_MIN = 0 # minimal loss value\n",
    "OBS_MAX = 1 # maximal loss value\n",
    "bounds={'HP1':(1.,5.),'HP2':(1.,5.)}"
   ]
  },
  {
   "cell_type": "code",
   "execution_count": 26,
   "metadata": {},
   "outputs": [],
   "source": [
    "# Definition of exponential-decay kernel for local GPs\n",
    "class ExponentialDecayNoiseKernel(Kernel):\n",
    "    def __init__(self, alpha=1.0,beta=0.5,noise=0.1):\n",
    "        self.beta = beta\n",
    "        self.alpha = alpha\n",
    "        self.noise = noise\n",
    "    def __call__(self, X, Y=None,eval_gradient=False):\n",
    "        if Y is None:\n",
    "            Y = X\n",
    "        X=np.array(X)\n",
    "        Y=np.array(Y)\n",
    "        return ((self.beta**self.alpha)/((X[None,:]+Y[:,None])+self.beta)**self.alpha + self.noise*np.where(X[None,:]-Y[:,None] == 0, 1, 0)).T\n",
    "    def diag(self, X):\n",
    "        return np.diag(self(X))\n",
    "    def is_stationary(self):\n",
    "        return False"
   ]
  },
  {
   "cell_type": "code",
   "execution_count": 27,
   "metadata": {},
   "outputs": [],
   "source": [
    "kernel_global = Matern(nu=MATER_NU)\n",
    "kernel_local = ExponentialDecayNoiseKernel(alpha=ALPHA,beta=BETA,noise=0.1)\n",
    "\n",
    "# Start by observing N_INIT_CONFIGS random configurations for N_INIT_EPOCHS epoch each\n",
    "observed_configs_dicts={}\n",
    "observed_configs_list=[]\n",
    "for i in range(N_INIT_CONFIGS):\n",
    "    new_config=np.empty(0)\n",
    "    for key in bounds.keys():\n",
    "        new_config=np.append(new_config,np.round(np.random.uniform(bounds[key][0],bounds[key][1]),2))\n",
    "    # Observe the new configuration for N_INIT_EPOCHS epochs\n",
    "    f_space = np.linspace(1,N_INIT_EPOCHS,N_INIT_EPOCHS)\n",
    "    experimental_data=local_xD(new_config,f_space,noise=0.01)\n",
    "    observed_configs_dicts['_'.join([str(config) for config in new_config])]=(f_space,experimental_data)\n",
    "    observed_configs_list.append(new_config)\n",
    "\n",
    "observed_configs_list=np.array(observed_configs_list)\n",
    "# print(observed_configs_dicts)\n",
    "# print(observed_configs_list)"
   ]
  },
  {
   "cell_type": "code",
   "execution_count": 31,
   "metadata": {},
   "outputs": [
    {
     "data": {
      "text/plain": [
       "array([[ 1.39441454, -1.33705004, -0.37995288, -0.09637831,  0.01427635],\n",
       "       [-1.33705004,  6.84908123, -2.22436332, -1.61549568, -1.22952847],\n",
       "       [-0.37995288, -2.22436332,  7.93933147, -1.78983552, -1.55495601],\n",
       "       [-0.09637831, -1.61549568, -1.78983552,  8.27213121, -1.61326105],\n",
       "       [ 0.01427635, -1.22952847, -1.55495601, -1.61326105,  8.42036313]])"
      ]
     },
     "execution_count": 31,
     "metadata": {},
     "output_type": "execute_result"
    },
    {
     "ename": "",
     "evalue": "",
     "output_type": "error",
     "traceback": [
      "\u001b[1;31mThe Kernel crashed while executing code in the current cell or a previous cell. \n",
      "\u001b[1;31mPlease review the code in the cell(s) to identify a possible cause of the failure. \n",
      "\u001b[1;31mClick <a href='https://aka.ms/vscodeJupyterKernelCrash'>here</a> for more info. \n",
      "\u001b[1;31mView Jupyter <a href='command:jupyter.viewOutput'>log</a> for further details."
     ]
    }
   ],
   "source": [
    "k_n=kernel_local(np.array([0,1,2,3,4]))\n",
    "np.linalg.inv(k_n)"
   ]
  }
 ],
 "metadata": {
  "kernelspec": {
   "display_name": ".venv_3_11_0",
   "language": "python",
   "name": "python3"
  },
  "language_info": {
   "codemirror_mode": {
    "name": "ipython",
    "version": 3
   },
   "file_extension": ".py",
   "mimetype": "text/x-python",
   "name": "python",
   "nbconvert_exporter": "python",
   "pygments_lexer": "ipython3",
   "version": "3.11.0"
  }
 },
 "nbformat": 4,
 "nbformat_minor": 2
}
