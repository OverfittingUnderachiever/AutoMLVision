{
 "cells": [
  {
   "cell_type": "code",
   "execution_count": 10,
   "metadata": {},
   "outputs": [],
   "source": [
    "import numpy as np\n",
    "import matplotlib.pyplot as plt\n",
    "from ft_testfunction import local_xD\n",
    "from freeze_thaw import FreezeThaw, init_configs,update_configs"
   ]
  },
  {
   "cell_type": "code",
   "execution_count": 16,
   "metadata": {},
   "outputs": [
    {
     "name": "stdout",
     "output_type": "stream",
     "text": [
      "2.95 [1. 2.]\n",
      "2.14 [1. 2.]\n",
      "Next config: [2.95] (old)\n",
      "[2.95] [3.]\n",
      "2.95 [1. 2. 3.]\n",
      "2.14 [1. 2.]\n",
      "Next config: [2.14] (old)\n",
      "[2.14] [3.]\n",
      "2.95 [1. 2. 3.]\n",
      "2.14 [1. 2. 3.]\n",
      "Next config: [2.14] (old)\n",
      "[2.14] [4.]\n",
      "2.95 [1. 2. 3.]\n",
      "2.14 [1. 2. 3. 4.]\n",
      "Next config: [2.95] (old)\n",
      "[2.95] [4.]\n",
      "2.95 [1. 2. 3. 4.]\n",
      "2.14 [1. 2. 3. 4.]\n",
      "Next config: [2.95] (old)\n",
      "[2.95] [5.]\n",
      "2.95 [1. 2. 3. 4. 5.]\n",
      "2.14 [1. 2. 3. 4.]\n",
      "Next config: [2.95] (old)\n",
      "[2.95] [6.]\n",
      "2.95 [1. 2. 3. 4. 5. 6.]\n",
      "2.14 [1. 2. 3. 4.]\n",
      "Next config: [2.95] (old)\n",
      "[2.95] [7.]\n",
      "2.95 [1. 2. 3. 4. 5. 6. 7.]\n",
      "2.14 [1. 2. 3. 4.]\n",
      "Next config: [2.95] (old)\n",
      "[2.95] [8.]\n",
      "2.95 [1. 2. 3. 4. 5. 6. 7. 8.]\n",
      "2.14 [1. 2. 3. 4.]\n",
      "Next config: [2.95] (old)\n",
      "[2.95] [9.]\n",
      "2.95 [1. 2. 3. 4. 5. 6. 7. 8. 9.]\n",
      "2.14 [1. 2. 3. 4.]\n",
      "Next config: [3.24] (new)\n",
      "[3.24] [1.]\n",
      "2.95 [1. 2. 3. 4. 5. 6. 7. 8. 9.]\n",
      "2.14 [1. 2. 3. 4.]\n",
      "3.24 [1.]\n"
     ]
    }
   ],
   "source": [
    "N_INIT_CONFIGS=2 # number of random initializations for the optimization\n",
    "N_INIT_EPOCHS=2 # number of epochs trained for initial configs\n",
    "INFERRED_MEAN = 0.8 # inferred mean of the global GP\n",
    "bounds={'HP1':(1.,5.)}#,'HP2':(1.,5.)}\n",
    "local_function=local_xD\n",
    "\n",
    "\n",
    "\n",
    "l,d=init_configs(local_function,bounds,N_INIT_CONFIGS,N_INIT_EPOCHS)\n",
    "for k,e in d.items():\n",
    "    print(k,e[0])\n",
    "\n",
    "for i in range(10):\n",
    "    ft=FreezeThaw(bounds,l,d)\n",
    "    new_config,new_epochs=ft.iterate(pred_epoch=1)\n",
    "    print(new_config,new_epochs)\n",
    "    l,d=update_configs(local_function,l,d,new_config,new_epochs)\n",
    "    for k,e in d.items():\n",
    "        print(k,e[0])\n"
   ]
  }
 ],
 "metadata": {
  "kernelspec": {
   "display_name": ".venv_3_11_0",
   "language": "python",
   "name": "python3"
  },
  "language_info": {
   "codemirror_mode": {
    "name": "ipython",
    "version": 3
   },
   "file_extension": ".py",
   "mimetype": "text/x-python",
   "name": "python",
   "nbconvert_exporter": "python",
   "pygments_lexer": "ipython3",
   "version": "3.11.0"
  }
 },
 "nbformat": 4,
 "nbformat_minor": 2
}
