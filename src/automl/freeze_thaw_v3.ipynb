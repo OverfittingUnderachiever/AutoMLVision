{
 "cells": [
  {
   "cell_type": "code",
   "execution_count": 1,
   "metadata": {},
   "outputs": [],
   "source": [
    "import numpy as np\n",
    "import matplotlib.pyplot as plt\n",
    "from ft_testfunction import local_xD\n",
    "from freeze_thaw import FreezeThaw, init_configs,update_configs"
   ]
  },
  {
   "cell_type": "code",
   "execution_count": 2,
   "metadata": {},
   "outputs": [
    {
     "name": "stdout",
     "output_type": "stream",
     "text": [
      "Sampling new config 2000/2000\n",
      "Computing mu, var for all ei-configs\n",
      "Computing ks\n",
      "Inverting k_x\n",
      "Computing k_t and inverse and lambda\n",
      "Computing means\n",
      "Computing o\n",
      "Inverting lambda\n",
      "Computing c\n",
      "Computing y\n",
      "Computing gamma\n",
      "Sum\n",
      "Computing mu_global\n",
      "Computing mu\n",
      "Computing cov\n",
      "Fantasizing new config: [3.05 4.99] (0/3)                                \n",
      "Costly op                                       \n",
      "Computing ks\n",
      "Inverting k_x\n",
      "Computing k_t and inverse and lambda\n",
      "Computing means\n",
      "Computing o\n",
      "Inverting lambda\n",
      "Computing c\n",
      "Computing y\n",
      "Computing gamma\n",
      "Sum\n",
      "Computing mu_global\n",
      "Computing mu\n",
      "Computing cov\n",
      "\n",
      "Costly op                                       \n",
      "Computing ks\n",
      "Inverting k_x\n",
      "Computing k_t and inverse and lambda\n",
      "Computing means\n",
      "Computing o\n",
      "Inverting lambda\n",
      "Computing c\n",
      "Computing y\n",
      "Computing gamma\n"
     ]
    }
   ],
   "source": [
    "N_INIT_CONFIGS=1000 # number of random initializations for the optimization\n",
    "N_INIT_EPOCHS=50 # number of epochs trained for initial configs\n",
    "INFERRED_MEAN = 0.8 # inferred mean of the global GP\n",
    "bounds={'HP1':(1.,5.),'HP2':(1.,5.)}\n",
    "local_function=local_xD\n",
    "\n",
    "\n",
    "\n",
    "l,d=init_configs(local_function,bounds,N_INIT_CONFIGS,N_INIT_EPOCHS)\n",
    "# for k,e in d.items():\n",
    "#     print(k,e[0])\n",
    "\n",
    "for i in range(10):\n",
    "    ft=FreezeThaw(bounds,l,d)\n",
    "    new_config,new_epochs=ft.iterate(pred_epoch=1,ei_n_samples=2000,n_samples_mc=100)\n",
    "    print(new_config)\n",
    "    print(new_epochs)\n",
    "    l,d=update_configs(local_function,l,d,new_config,new_epochs)\n",
    "    # for k,e in d.items():\n",
    "    #     print(k,e[0])\n"
   ]
  }
 ],
 "metadata": {
  "kernelspec": {
   "display_name": ".venv_3_11_0",
   "language": "python",
   "name": "python3"
  },
  "language_info": {
   "codemirror_mode": {
    "name": "ipython",
    "version": 3
   },
   "file_extension": ".py",
   "mimetype": "text/x-python",
   "name": "python",
   "nbconvert_exporter": "python",
   "pygments_lexer": "ipython3",
   "version": "3.11.0"
  }
 },
 "nbformat": 4,
 "nbformat_minor": 2
}
